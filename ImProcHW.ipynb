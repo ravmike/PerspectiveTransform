{
 "cells": [
  {
   "cell_type": "code",
   "execution_count": 1,
   "metadata": {},
   "outputs": [],
   "source": [
    "import numpy as np\n",
    "import cv2\n",
    "import pandas as pd"
   ]
  },
  {
   "cell_type": "code",
   "execution_count": 2,
   "metadata": {},
   "outputs": [
    {
     "name": "stdout",
     "output_type": "stream",
     "text": [
      "Help on built-in function threshold:\n",
      "\n",
      "threshold(...)\n",
      "    threshold(src, thresh, maxval, type[, dst]) -> retval, dst\n",
      "    .   @brief Applies a fixed-level threshold to each array element.\n",
      "    .   \n",
      "    .   The function applies fixed-level thresholding to a multiple-channel array. The function is typically\n",
      "    .   used to get a bi-level (binary) image out of a grayscale image ( #compare could be also used for\n",
      "    .   this purpose) or for removing a noise, that is, filtering out pixels with too small or too large\n",
      "    .   values. There are several types of thresholding supported by the function. They are determined by\n",
      "    .   type parameter.\n",
      "    .   \n",
      "    .   Also, the special values #THRESH_OTSU or #THRESH_TRIANGLE may be combined with one of the\n",
      "    .   above values. In these cases, the function determines the optimal threshold value using the Otsu's\n",
      "    .   or Triangle algorithm and uses it instead of the specified thresh.\n",
      "    .   \n",
      "    .   @note Currently, the Otsu's and Triangle methods are implemented only for 8-bit single-channel images.\n",
      "    .   \n",
      "    .   @param src input array (multiple-channel, 8-bit or 32-bit floating point).\n",
      "    .   @param dst output array of the same size  and type and the same number of channels as src.\n",
      "    .   @param thresh threshold value.\n",
      "    .   @param maxval maximum value to use with the #THRESH_BINARY and #THRESH_BINARY_INV thresholding\n",
      "    .   types.\n",
      "    .   @param type thresholding type (see #ThresholdTypes).\n",
      "    .   @return the computed threshold value if Otsu's or Triangle methods used.\n",
      "    .   \n",
      "    .   @sa  adaptiveThreshold, findContours, compare, min, max\n",
      "\n"
     ]
    }
   ],
   "source": [
    "# help(cv2.threshold)"
   ]
  },
  {
   "cell_type": "code",
   "execution_count": 3,
   "metadata": {},
   "outputs": [
    {
     "data": {
      "text/plain": [
       "True"
      ]
     },
     "execution_count": 3,
     "metadata": {},
     "output_type": "execute_result"
    }
   ],
   "source": [
    "#Read the image\n",
    "base = './'\n",
    "im = cv2.imread(base + 'skyscraper.jpg')\n",
    "gray = cv2.cvtColor(im,cv2.COLOR_BGR2GRAY)\n",
    "equ = cv2.equalizeHist(gray)\n",
    "#ret, thresh = cv2.threshold(equ,0,255,cv2.THRESH_BINARY_INV+cv2.THRESH_OTSU)\n",
    "winSize = 7\n",
    "blured = cv2.GaussianBlur(equ, (winSize, winSize), 0)\n",
    "edges = cv2.Canny(blured,100,220,apertureSize = 7, L2gradient=True)\n",
    "\n",
    "\n",
    "\n",
    "#cv2.imshow('houghlines',im)\n",
    "cv2.imwrite(base+'gray.jpg', gray)\n",
    "cv2.imwrite(base+'equ.jpg', equ)\n",
    "cv2.imwrite(base+'blured.jpg', blured)\n",
    "cv2.imwrite(base+'edges.jpg', edges)\n",
    "\n",
    "#cv2.imwrite(base+'thresh.jpg', thresh)\n",
    "\n",
    "#A few changes to check git functionality"
   ]
  },
  {
   "cell_type": "code",
   "execution_count": null,
   "metadata": {},
   "outputs": [],
   "source": [
    "# help(cv2.Canny)"
   ]
  },
  {
   "cell_type": "code",
   "execution_count": null,
   "metadata": {
    "scrolled": true
   },
   "outputs": [],
   "source": [
    "# help(cv2.HoughLines)"
   ]
  },
  {
   "cell_type": "code",
   "execution_count": 4,
   "metadata": {},
   "outputs": [
    {
     "data": {
      "text/plain": [
       "(757, 543, 3)"
      ]
     },
     "execution_count": 4,
     "metadata": {},
     "output_type": "execute_result"
    }
   ],
   "source": [
    "im.shape"
   ]
  },
  {
   "cell_type": "code",
   "execution_count": 5,
   "metadata": {},
   "outputs": [],
   "source": [
    "height = im.shape[0]\n",
    "width = im.shape[1]"
   ]
  },
  {
   "cell_type": "code",
   "execution_count": 6,
   "metadata": {},
   "outputs": [],
   "source": [
    "def draw_line (img, rho, theta, color=(0,255,0)):\n",
    "    a = np.cos(theta)\n",
    "    b = np.sin(theta)\n",
    "    x0 = a*rho\n",
    "    y0 = b*rho\n",
    "    x1 = int(np.around(x0 + 1000*(-b)))   # Here i have used int() instead of rounding the decimal value, so 3.8 --> 3\n",
    "    y1 = int(np.around(y0 + 1000*(a)))    # But if you want to round the number, then use np.around() function, then 3.8 --> 4.0\n",
    "    x2 = int(np.around(x0 - 1000*(-b)))   # But we need integers, so use int() function after that, ie int(np.around(x))\n",
    "    y2 = int(np.around(y0 - 1000*(a)))\n",
    "    cv2.line(img,(x1,y1),(x2,y2),color,2)\n",
    "    print (rho, theta, color)"
   ]
  },
  {
   "cell_type": "code",
   "execution_count": 7,
   "metadata": {},
   "outputs": [
    {
     "data": {
      "text/plain": [
       "1.5707963267948966"
      ]
     },
     "execution_count": 7,
     "metadata": {},
     "output_type": "execute_result"
    }
   ],
   "source": [
    "np.pi / 2"
   ]
  },
  {
   "cell_type": "code",
   "execution_count": 8,
   "metadata": {
    "scrolled": true
   },
   "outputs": [
    {
     "name": "stdout",
     "output_type": "stream",
     "text": [
      "-341.0 2.8972466 (0, 0, 255)\n",
      "190.0 0.2617994 (0, 0, 255)\n"
     ]
    },
    {
     "data": {
      "text/plain": [
       "True"
      ]
     },
     "execution_count": 8,
     "metadata": {},
     "output_type": "execute_result"
    }
   ],
   "source": [
    "img = im.copy()\n",
    "rho_minus = 0\n",
    "rho_plus = np.inf\n",
    "\n",
    "rho_hor_max = 0\n",
    "hor_max_found = False\n",
    "rho_hor_min = im.shape[0]\n",
    "hor_min_found = False\n",
    "eps = 0.01\n",
    "lines = cv2.HoughLines(edges,1,np.pi/180, int (min(im.shape[0], im.shape[1]) / 3))\n",
    "#print (lines)\n",
    "for line in lines:\n",
    "    for rho,theta in line:\n",
    "        if (theta > np.pi / 2 + eps and np.abs (rho) > np.abs (rho_minus)):\n",
    "            rho_minus = rho\n",
    "            theta_minus = theta\n",
    "        if (theta < np.pi / 2 - eps and rho < rho_plus):\n",
    "            rho_plus = rho\n",
    "            theta_plus = theta\n",
    "        if (np.abs (theta - np.pi / 2) < eps):\n",
    "            if (rho > rho_hor_max):\n",
    "                rho_hor_max = rho\n",
    "                hor_max_found = True\n",
    "            if (rho < rho_hor_min):\n",
    "                rho_hor_min = rho\n",
    "                hor_min_found = True\n",
    "        #draw_line (img, rho, theta)\n",
    "        \n",
    "red = (0, 0, 255)\n",
    "draw_line (img, rho_minus, theta_minus, red)\n",
    "draw_line (img, rho_plus, theta_plus, red)\n",
    "\n",
    "if hor_min_found:\n",
    "    draw_line (img, rho_hor_min, np.pi / 2, red)\n",
    "if hor_max_found:\n",
    "    draw_line (img, rho_hor_max, np.pi / 2, red)\n",
    "cv2.imwrite(base+'houghlines_red.jpg', img)\n",
    "#cv2.imshow('houghlines',img)"
   ]
  },
  {
   "cell_type": "code",
   "execution_count": null,
   "metadata": {},
   "outputs": [],
   "source": [
    "# img = im.copy()\n",
    "# lines = cv2.HoughLinesP(edges,1,np.pi/180,80, minLineLength = 100, maxLineGap = 10)\n",
    "# for line in lines:\n",
    "#     for x1,y1,x2,y2 in line:\n",
    "#         cv2.line(img,(x1,y1),(x2,y2),(0,255,0),2)\n",
    "# cv2.imwrite(base+'houghlines_p.jpg', img)\n",
    "# cv2.imshow('houghlines',img)\n",
    "# cv2.waitKey()\n"
   ]
  },
  {
   "cell_type": "code",
   "execution_count": 9,
   "metadata": {},
   "outputs": [],
   "source": [
    "# Given y, this function returns x from (rho, theta) line equation\n",
    "def x_from_y(rho, theta, y):\n",
    "    sin_t = np.sin(theta)\n",
    "    cos_t = np.cos(theta) \n",
    "    \n",
    "    return ((rho / cos_t) - ((y * sin_t) / cos_t))"
   ]
  },
  {
   "cell_type": "code",
   "execution_count": 10,
   "metadata": {},
   "outputs": [],
   "source": [
    "# Given x, this function returns y from (rho, theta) line equation\n",
    "def y_from_x(rho, theta, x):\n",
    "    sin_t = np.sin(theta)\n",
    "    cos_t = np.cos(theta) \n",
    "    \n",
    "    return (-((x * cos_t) / sin_t) + (rho / sin_t)) "
   ]
  },
  {
   "cell_type": "code",
   "execution_count": 11,
   "metadata": {},
   "outputs": [],
   "source": [
    "# Given a point and the rectangle, this function checks \n",
    "# if this point lies inside the rectangle\n",
    "def check_point(x, y, left_x, right_x, up_y, down_y):\n",
    "    if (left_x <= x) and (x <= right_x) and (up_y <= y) and (y <= down_y):\n",
    "        return (int(np.around(x)), int(np.around(y)))\n",
    "    else:\n",
    "        return None"
   ]
  },
  {
   "cell_type": "code",
   "execution_count": 12,
   "metadata": {},
   "outputs": [],
   "source": [
    "# A line which traverses some rectangle has two points of traversal.\n",
    "#\n",
    "# This function finds four possible traversal points and drops those of them \n",
    "# which are not inside the rectangle\n",
    "def get_traversal_points(rho, theta, left_x, right_x, up_y, down_y):      \n",
    "    \n",
    "    #Find four possible points of traversal\n",
    "    up = (x_from_y(rho, theta, up_y), up_y)\n",
    "    right = (right_x, y_from_x(rho, theta, right_x))\n",
    "    down = (x_from_y(rho, theta, down_y), down_y)\n",
    "    left = (left_x, y_from_x(rho, theta, left_x))\n",
    "    \n",
    "    #If point is inside, we add it to the list; otherwise we add None\n",
    "    intersect_points = list(map(lambda p: check_point(p[0], p[1], left_x, right_x, up_y, down_y), [up, right, down, left]))\n",
    "    \n",
    "    #Drop all None values\n",
    "    intersect_points = [point for point in intersect_points if point != None]\n",
    "    \n",
    "    #Check if exactly two points were found\n",
    "    if len(intersect_points) != 2:\n",
    "        print('Error! len(intersect_points) != 2, intersect_points = {}'.format(intersect_points))\n",
    "        return None\n",
    "    else:\n",
    "        return sorted(intersect_points, key=lambda x: x[0])  "
   ]
  },
  {
   "cell_type": "code",
   "execution_count": 13,
   "metadata": {},
   "outputs": [
    {
     "name": "stdout",
     "output_type": "stream",
     "text": [
      "[(351, 0), (540, 757)]\n",
      "[(0, 734), (197, 0)]\n"
     ]
    }
   ],
   "source": [
    "print(get_traversal_points(rho_minus, theta_minus, 0, width, 0, height))\n",
    "print(get_traversal_points(rho_plus, theta_plus, 0, width, 0, height))"
   ]
  },
  {
   "cell_type": "code",
   "execution_count": 14,
   "metadata": {},
   "outputs": [
    {
     "name": "stdout",
     "output_type": "stream",
     "text": [
      "734\n"
     ]
    }
   ],
   "source": [
    "# Get the point of traversal for 'plus' and 'minus' lines\n",
    "# The order as follows in a way to obtain convenient trapezoid\n",
    "down_plus, up_plus = get_traversal_points(rho_plus, theta_plus, 0, width, 0, height)\n",
    "up_minus, down_minus = get_traversal_points(rho_minus, theta_minus, 0, width, 0, height)\n",
    "\n",
    "crop_height = min(down_minus[1], down_plus[1])\n",
    "print(crop_height)"
   ]
  },
  {
   "cell_type": "code",
   "execution_count": 19,
   "metadata": {},
   "outputs": [
    {
     "data": {
      "text/plain": [
       "True"
      ]
     },
     "execution_count": 19,
     "metadata": {},
     "output_type": "execute_result"
    }
   ],
   "source": [
    "strip = im[:, up_plus[0]:up_minus[0]]\n",
    "strip_edges = edges[:, up_plus[0]:up_minus[0]]\n",
    "cv2.imwrite(base + 'strip.jpg', strip)"
   ]
  },
  {
   "cell_type": "code",
   "execution_count": 20,
   "metadata": {},
   "outputs": [
    {
     "name": "stdout",
     "output_type": "stream",
     "text": [
      "431.0 2.3561945 (0, 0, 255)\n",
      "0.0 0.0 (0, 0, 255)\n",
      "72.0 1.5707963267948966 (0, 0, 255)\n",
      "78.0 1.5707963267948966 (0, 0, 255)\n"
     ]
    },
    {
     "data": {
      "text/plain": [
       "True"
      ]
     },
     "execution_count": 20,
     "metadata": {},
     "output_type": "execute_result"
    }
   ],
   "source": [
    "strip_img = strip.copy()\n",
    "rho_minus = 0\n",
    "rho_plus = np.inf\n",
    "\n",
    "rho_hor_max = 0\n",
    "hor_max_found = False\n",
    "rho_hor_min = strip.shape[0]\n",
    "hor_min_found = False\n",
    "eps = 0.01\n",
    "lines = cv2.HoughLines(strip_edges,1,np.pi/180, int (min(strip.shape[0], strip.shape[1]) / 3))\n",
    "#print (lines)\n",
    "for line in lines:\n",
    "    for rho,theta in line:\n",
    "        if (theta > np.pi / 2 + eps and np.abs (rho) > np.abs (rho_minus)):\n",
    "            rho_minus = rho\n",
    "            theta_minus = theta\n",
    "        if (theta < np.pi / 2 - eps and rho < rho_plus):\n",
    "            rho_plus = rho\n",
    "            theta_plus = theta\n",
    "        if (np.abs (theta - np.pi / 2) < eps):\n",
    "            if (rho > rho_hor_max):\n",
    "                rho_hor_max = rho\n",
    "                hor_max_found = True\n",
    "            if (rho < rho_hor_min):\n",
    "                rho_hor_min = rho\n",
    "                hor_min_found = True\n",
    "        #draw_line (img, rho, theta)\n",
    "        \n",
    "red = (0, 0, 255)\n",
    "draw_line (strip_img, rho_minus, theta_minus, red)\n",
    "draw_line (strip_img, rho_plus, theta_plus, red)\n",
    "\n",
    "if hor_min_found:\n",
    "    draw_line (strip_img, rho_hor_min, np.pi / 2, red)\n",
    "if hor_max_found:\n",
    "    draw_line (strip_img, rho_hor_max, np.pi / 2, red)\n",
    "cv2.imwrite(base+'strip_houghlines_red.jpg', strip_img)\n",
    "#cv2.imshow('houghlines',img)"
   ]
  },
  {
   "cell_type": "code",
   "execution_count": null,
   "metadata": {},
   "outputs": [],
   "source": [
    "crop = im[0:crop_height, :]\n",
    "cv2.imwrite(base+'cropped.jpg', crop)"
   ]
  },
  {
   "cell_type": "code",
   "execution_count": null,
   "metadata": {},
   "outputs": [],
   "source": [
    "# Get the points of traversal for the cropped picture\n",
    "crop_down_plus, crop_up_plus = get_traversal_points(rho_plus, theta_plus, 0, width, 0, crop_height)\n",
    "crop_up_minus, crop_down_minus = get_traversal_points(rho_minus, theta_minus, 0, width, 0, crop_height)"
   ]
  },
  {
   "cell_type": "code",
   "execution_count": null,
   "metadata": {},
   "outputs": [],
   "source": [
    "# Create a transform and apply it\n",
    "from_points = np.float32([crop_down_plus, crop_up_plus, crop_up_minus, crop_down_minus])\n",
    "to_points = np.float32([(0, crop_height), (0, 0), (width, 0), (width, crop_height)])\n",
    "\n",
    "M = cv2.getPerspectiveTransform(from_points, to_points)\n",
    "dst = cv2.warpPerspective(crop, M, (width, crop_height))\n",
    "\n",
    "cv2.imwrite(base+'transformed.jpg', dst)"
   ]
  }
 ],
 "metadata": {
  "kernelspec": {
   "display_name": "Python 3",
   "language": "python",
   "name": "python3"
  },
  "language_info": {
   "codemirror_mode": {
    "name": "ipython",
    "version": 3
   },
   "file_extension": ".py",
   "mimetype": "text/x-python",
   "name": "python",
   "nbconvert_exporter": "python",
   "pygments_lexer": "ipython3",
   "version": "3.6.5"
  }
 },
 "nbformat": 4,
 "nbformat_minor": 2
}
