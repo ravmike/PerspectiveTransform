{
 "cells": [
  {
   "cell_type": "code",
   "execution_count": 1,
   "metadata": {},
   "outputs": [],
   "source": [
    "import numpy as np\n",
    "import cv2\n",
    "import pandas as pd"
   ]
  },
  {
   "cell_type": "code",
   "execution_count": 65,
   "metadata": {},
   "outputs": [
    {
     "name": "stdout",
     "output_type": "stream",
     "text": [
      " Hough Lines demo \n",
      " Press h to draw lines using cv2.HoughLines()\n",
      " Press p to draw lines using cv2.HoughLinesP()\n",
      " All the parameter values selected at random, Change it the way you like\n"
     ]
    },
    {
     "data": {
      "text/plain": [
       "True"
      ]
     },
     "execution_count": 65,
     "metadata": {},
     "output_type": "execute_result"
    }
   ],
   "source": [
    "''' file name : houghlines.py\n",
    "Description : This sample shows how to detect lines using Hough Transform\n",
    "This is Python version of this tutorial : http://opencv.itseez.com/doc/tutorials/imgproc/imgtrans/hough_lines/hough_lines.html\n",
    "Level : Beginner\n",
    "Benefits : Learn to find lines in an image and draw them\n",
    "Usage : python houghlines.py \n",
    "Written by : Abid K. (abidrahman2@gmail.com) , Visit opencvpython.blogspot.com for more tutorials '''\n",
    "\n",
    "\n",
    "print (\" Hough Lines demo \")\n",
    "print (\" Press h to draw lines using cv2.HoughLines()\")\n",
    "print (\" Press p to draw lines using cv2.HoughLinesP()\")\n",
    "print (\" All the parameter values selected at random, Change it the way you like\")\n",
    "\n",
    "im = cv2.imread('/mnt/c/Users/Михаил/Pictures/skyscraper2.jpg')\n",
    "gray = cv2.cvtColor(im,cv2.COLOR_BGR2GRAY)\n",
    "edges = cv2.Canny(gray,150,200,apertureSize = 3, L2gradient=True)\n",
    "\n",
    "#cv2.imshow('houghlines',im)\n",
    "cv2.imwrite('/mnt/c/Users/Михаил/Pictures/gray.jpg', gray)\n",
    "cv2.imwrite('/mnt/c/Users/Михаил/Pictures/edges.jpg', edges)\n",
    "\n",
    "  "
   ]
  },
  {
   "cell_type": "code",
   "execution_count": 44,
   "metadata": {
    "collapsed": true
   },
   "outputs": [
    {
     "name": "stdout",
     "output_type": "stream",
     "text": [
      "Help on built-in function Canny:\n",
      "\n",
      "Canny(...)\n",
      "    Canny(image, threshold1, threshold2[, edges[, apertureSize[, L2gradient]]]) -> edges\n",
      "    .   @brief Finds edges in an image using the Canny algorithm @cite Canny86 .\n",
      "    .   \n",
      "    .   The function finds edges in the input image and marks them in the output map edges using the\n",
      "    .   Canny algorithm. The smallest value between threshold1 and threshold2 is used for edge linking. The\n",
      "    .   largest value is used to find initial segments of strong edges. See\n",
      "    .   <http://en.wikipedia.org/wiki/Canny_edge_detector>\n",
      "    .   \n",
      "    .   @param image 8-bit input image.\n",
      "    .   @param edges output edge map; single channels 8-bit image, which has the same size as image .\n",
      "    .   @param threshold1 first threshold for the hysteresis procedure.\n",
      "    .   @param threshold2 second threshold for the hysteresis procedure.\n",
      "    .   @param apertureSize aperture size for the Sobel operator.\n",
      "    .   @param L2gradient a flag, indicating whether a more accurate \\f$L_2\\f$ norm\n",
      "    .   \\f$=\\sqrt{(dI/dx)^2 + (dI/dy)^2}\\f$ should be used to calculate the image gradient magnitude (\n",
      "    .   L2gradient=true ), or whether the default \\f$L_1\\f$ norm \\f$=|dI/dx|+|dI/dy|\\f$ is enough (\n",
      "    .   L2gradient=false ).\n",
      "    \n",
      "    \n",
      "    \n",
      "    Canny(dx, dy, threshold1, threshold2[, edges[, L2gradient]]) -> edges\n",
      "    .   \\overload\n",
      "    .   \n",
      "    .   Finds edges in an image using the Canny algorithm with custom image gradient.\n",
      "    .   \n",
      "    .   @param dx 16-bit x derivative of input image (CV_16SC1 or CV_16SC3).\n",
      "    .   @param dy 16-bit y derivative of input image (same type as dx).\n",
      "    .   @param edges output edge map; single channels 8-bit image, which has the same size as image .\n",
      "    .   @param threshold1 first threshold for the hysteresis procedure.\n",
      "    .   @param threshold2 second threshold for the hysteresis procedure.\n",
      "    .   @param L2gradient a flag, indicating whether a more accurate \\f$L_2\\f$ norm\n",
      "    .   \\f$=\\sqrt{(dI/dx)^2 + (dI/dy)^2}\\f$ should be used to calculate the image gradient magnitude (\n",
      "    .   L2gradient=true ), or whether the default \\f$L_1\\f$ norm \\f$=|dI/dx|+|dI/dy|\\f$ is enough (\n",
      "    .   L2gradient=false ).\n",
      "\n"
     ]
    }
   ],
   "source": [
    "help(cv2.Canny)"
   ]
  },
  {
   "cell_type": "code",
   "execution_count": 13,
   "metadata": {
    "collapsed": true
   },
   "outputs": [
    {
     "name": "stdout",
     "output_type": "stream",
     "text": [
      "Help on built-in function HoughLines:\n",
      "\n",
      "HoughLines(...)\n",
      "    HoughLines(image, rho, theta, threshold[, lines[, srn[, stn[, min_theta[, max_theta]]]]]) -> lines\n",
      "    .   @brief Finds lines in a binary image using the standard Hough transform.\n",
      "    .   \n",
      "    .   The function implements the standard or standard multi-scale Hough transform algorithm for line\n",
      "    .   detection. See <http://homepages.inf.ed.ac.uk/rbf/HIPR2/hough.htm> for a good explanation of Hough\n",
      "    .   transform.\n",
      "    .   \n",
      "    .   @param image 8-bit, single-channel binary source image. The image may be modified by the function.\n",
      "    .   @param lines Output vector of lines. Each line is represented by a two-element vector\n",
      "    .   \\f$(\\rho, \\theta)\\f$ . \\f$\\rho\\f$ is the distance from the coordinate origin \\f$(0,0)\\f$ (top-left corner of\n",
      "    .   the image). \\f$\\theta\\f$ is the line rotation angle in radians (\n",
      "    .   \\f$0 \\sim \\textrm{vertical line}, \\pi/2 \\sim \\textrm{horizontal line}\\f$ ).\n",
      "    .   @param rho Distance resolution of the accumulator in pixels.\n",
      "    .   @param theta Angle resolution of the accumulator in radians.\n",
      "    .   @param threshold Accumulator threshold parameter. Only those lines are returned that get enough\n",
      "    .   votes ( \\f$>\\texttt{threshold}\\f$ ).\n",
      "    .   @param srn For the multi-scale Hough transform, it is a divisor for the distance resolution rho .\n",
      "    .   The coarse accumulator distance resolution is rho and the accurate accumulator resolution is\n",
      "    .   rho/srn . If both srn=0 and stn=0 , the classical Hough transform is used. Otherwise, both these\n",
      "    .   parameters should be positive.\n",
      "    .   @param stn For the multi-scale Hough transform, it is a divisor for the distance resolution theta.\n",
      "    .   @param min_theta For standard and multi-scale Hough transform, minimum angle to check for lines.\n",
      "    .   Must fall between 0 and max_theta.\n",
      "    .   @param max_theta For standard and multi-scale Hough transform, maximum angle to check for lines.\n",
      "    .   Must fall between min_theta and CV_PI.\n",
      "\n"
     ]
    }
   ],
   "source": [
    "help(cv2.HoughLines)"
   ]
  },
  {
   "cell_type": "code",
   "execution_count": 81,
   "metadata": {},
   "outputs": [
    {
     "data": {
      "text/plain": [
       "True"
      ]
     },
     "execution_count": 81,
     "metadata": {},
     "output_type": "execute_result"
    }
   ],
   "source": [
    "img = im.copy()\n",
    "lines = cv2.HoughLines(edges,1,np.pi/180,130)\n",
    "#print (lines)\n",
    "for line in lines:\n",
    "    for rho,theta in line:\n",
    "        a = np.cos(theta)\n",
    "        b = np.sin(theta)\n",
    "        x0 = a*rho\n",
    "        y0 = b*rho\n",
    "        x1 = int(x0 + 1000*(-b))   # Here i have used int() instead of rounding the decimal value, so 3.8 --> 3\n",
    "        y1 = int(y0 + 1000*(a))    # But if you want to round the number, then use np.around() function, then 3.8 --> 4.0\n",
    "        x2 = int(x0 - 1000*(-b))   # But we need integers, so use int() function after that, ie int(np.around(x))\n",
    "        y2 = int(y0 - 1000*(a))\n",
    "        cv2.line(img,(x1,y1),(x2,y2),(0,255,0),2)\n",
    "cv2.imwrite('/mnt/c/Users/Михаил/Pictures/houghlines.jpg', img)\n",
    "#cv2.imshow('houghlines',img)"
   ]
  },
  {
   "cell_type": "code",
   "execution_count": 67,
   "metadata": {},
   "outputs": [
    {
     "data": {
      "text/plain": [
       "True"
      ]
     },
     "execution_count": 67,
     "metadata": {},
     "output_type": "execute_result"
    }
   ],
   "source": [
    "img = im.copy()\n",
    "lines = cv2.HoughLinesP(edges,1,np.pi/180,150, minLineLength = 50, maxLineGap = 200)\n",
    "for line in lines:\n",
    "    for x1,y1,x2,y2 in line:\n",
    "        cv2.line(img,(x1,y1),(x2,y2),(0,255,0),2)\n",
    "cv2.imwrite('/mnt/c/Users/Михаил/Pictures/houghlines_p.jpg', img)\n",
    "#cv2.imshow('houghlines',img)\n"
   ]
  }
 ],
 "metadata": {
  "kernelspec": {
   "display_name": "cv",
   "language": "python",
   "name": "cv"
  },
  "language_info": {
   "codemirror_mode": {
    "name": "ipython",
    "version": 3
   },
   "file_extension": ".py",
   "mimetype": "text/x-python",
   "name": "python",
   "nbconvert_exporter": "python",
   "pygments_lexer": "ipython3",
   "version": "3.5.2"
  }
 },
 "nbformat": 4,
 "nbformat_minor": 2
}
