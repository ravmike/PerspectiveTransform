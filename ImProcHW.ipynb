{
 "cells": [
  {
   "cell_type": "code",
   "execution_count": 2,
   "metadata": {},
   "outputs": [],
   "source": [
    "import numpy as np\n",
    "import cv2\n",
    "import pandas as pd"
   ]
  },
  {
   "cell_type": "code",
   "execution_count": null,
   "metadata": {},
   "outputs": [],
   "source": [
    "help(cv2.threshold)"
   ]
  },
  {
   "cell_type": "code",
   "execution_count": 3,
   "metadata": {},
   "outputs": [
    {
     "data": {
      "text/plain": [
       "True"
      ]
     },
     "execution_count": 3,
     "metadata": {},
     "output_type": "execute_result"
    }
   ],
   "source": [
    "#Read the image\n",
    "base = './'\n",
    "im = cv2.imread(base + 'skyscraper.jpg')\n",
    "gray = cv2.cvtColor(im,cv2.COLOR_BGR2GRAY)\n",
    "equ = cv2.equalizeHist(gray)\n",
    "#ret, thresh = cv2.threshold(equ,0,255,cv2.THRESH_BINARY_INV+cv2.THRESH_OTSU)\n",
    "winSize = 7\n",
    "blured = cv2.GaussianBlur(equ, (winSize, winSize), 0)\n",
    "edges = cv2.Canny(blured,100,220,apertureSize = 7, L2gradient=True)\n",
    "\n",
    "\n",
    "\n",
    "#cv2.imshow('houghlines',im)\n",
    "cv2.imwrite(base+'gray.jpg', gray)\n",
    "cv2.imwrite(base+'equ.jpg', equ)\n",
    "cv2.imwrite(base+'blured.jpg', blured)\n",
    "cv2.imwrite(base+'edges.jpg', edges)\n",
    "\n",
    "#cv2.imwrite(base+'thresh.jpg', thresh)\n",
    "\n",
    "#A few changes to check git functionality"
   ]
  },
  {
   "cell_type": "code",
   "execution_count": null,
   "metadata": {},
   "outputs": [],
   "source": [
    "help(cv2.Canny)"
   ]
  },
  {
   "cell_type": "code",
   "execution_count": 8,
   "metadata": {
    "scrolled": true
   },
   "outputs": [
    {
     "name": "stdout",
     "output_type": "stream",
     "text": [
      "Help on built-in function HoughLines:\n",
      "\n",
      "HoughLines(...)\n",
      "    HoughLines(image, rho, theta, threshold[, lines[, srn[, stn[, min_theta[, max_theta]]]]]) -> lines\n",
      "    .   @brief Finds lines in a binary image using the standard Hough transform.\n",
      "    .   \n",
      "    .   The function implements the standard or standard multi-scale Hough transform algorithm for line\n",
      "    .   detection. See <http://homepages.inf.ed.ac.uk/rbf/HIPR2/hough.htm> for a good explanation of Hough\n",
      "    .   transform.\n",
      "    .   \n",
      "    .   @param image 8-bit, single-channel binary source image. The image may be modified by the function.\n",
      "    .   @param lines Output vector of lines. Each line is represented by a two-element vector\n",
      "    .   \\f$(\\rho, \\theta)\\f$ . \\f$\\rho\\f$ is the distance from the coordinate origin \\f$(0,0)\\f$ (top-left corner of\n",
      "    .   the image). \\f$\\theta\\f$ is the line rotation angle in radians (\n",
      "    .   \\f$0 \\sim \\textrm{vertical line}, \\pi/2 \\sim \\textrm{horizontal line}\\f$ ).\n",
      "    .   @param rho Distance resolution of the accumulator in pixels.\n",
      "    .   @param theta Angle resolution of the accumulator in radians.\n",
      "    .   @param threshold Accumulator threshold parameter. Only those lines are returned that get enough\n",
      "    .   votes ( \\f$>\\texttt{threshold}\\f$ ).\n",
      "    .   @param srn For the multi-scale Hough transform, it is a divisor for the distance resolution rho .\n",
      "    .   The coarse accumulator distance resolution is rho and the accurate accumulator resolution is\n",
      "    .   rho/srn . If both srn=0 and stn=0 , the classical Hough transform is used. Otherwise, both these\n",
      "    .   parameters should be positive.\n",
      "    .   @param stn For the multi-scale Hough transform, it is a divisor for the distance resolution theta.\n",
      "    .   @param min_theta For standard and multi-scale Hough transform, minimum angle to check for lines.\n",
      "    .   Must fall between 0 and max_theta.\n",
      "    .   @param max_theta For standard and multi-scale Hough transform, maximum angle to check for lines.\n",
      "    .   Must fall between min_theta and CV_PI.\n",
      "\n"
     ]
    }
   ],
   "source": [
    "help(cv2.HoughLines)"
   ]
  },
  {
   "cell_type": "code",
   "execution_count": 142,
   "metadata": {},
   "outputs": [
    {
     "data": {
      "text/plain": [
       "(757, 543, 3)"
      ]
     },
     "execution_count": 142,
     "metadata": {},
     "output_type": "execute_result"
    }
   ],
   "source": [
    "im.shape"
   ]
  },
  {
   "cell_type": "code",
   "execution_count": 141,
   "metadata": {},
   "outputs": [],
   "source": [
    "height = im.shape[0]\n",
    "width = im.shape[1]"
   ]
  },
  {
   "cell_type": "code",
   "execution_count": 143,
   "metadata": {},
   "outputs": [],
   "source": [
    "def draw_line (img, rho, theta, color=(0,255,0)):\n",
    "    a = np.cos(theta)\n",
    "    b = np.sin(theta)\n",
    "    x0 = a*rho\n",
    "    y0 = b*rho\n",
    "    x1 = int(np.around(x0 + 1000*(-b)))   # Here i have used int() instead of rounding the decimal value, so 3.8 --> 3\n",
    "    y1 = int(np.around(y0 + 1000*(a)))    # But if you want to round the number, then use np.around() function, then 3.8 --> 4.0\n",
    "    x2 = int(np.around(x0 - 1000*(-b)))   # But we need integers, so use int() function after that, ie int(np.around(x))\n",
    "    y2 = int(np.around(y0 - 1000*(a)))\n",
    "    cv2.line(img,(x1,y1),(x2,y2),color,2)\n",
    "    print (rho, theta, color)"
   ]
  },
  {
   "cell_type": "code",
   "execution_count": 82,
   "metadata": {},
   "outputs": [
    {
     "data": {
      "text/plain": [
       "1.5707963267948966"
      ]
     },
     "execution_count": 82,
     "metadata": {},
     "output_type": "execute_result"
    }
   ],
   "source": [
    "np.pi / 2"
   ]
  },
  {
   "cell_type": "code",
   "execution_count": 150,
   "metadata": {
    "scrolled": true
   },
   "outputs": [
    {
     "name": "stdout",
     "output_type": "stream",
     "text": [
      "-341.0 2.8972466 (0, 0, 255)\n",
      "190.0 0.2617994 (0, 0, 255)\n"
     ]
    },
    {
     "data": {
      "text/plain": [
       "True"
      ]
     },
     "execution_count": 150,
     "metadata": {},
     "output_type": "execute_result"
    }
   ],
   "source": [
    "img = im.copy()\n",
    "rho_minus = 0\n",
    "rho_plus = np.inf\n",
    "\n",
    "rho_hor_max = 0\n",
    "hor_max_found = False\n",
    "rho_hor_min = im.shape[0]\n",
    "hor_min_found = False\n",
    "eps = 0.01\n",
    "lines = cv2.HoughLines(edges,1,np.pi/180, int (min(im.shape[0], im.shape[1]) / 3))\n",
    "#print (lines)\n",
    "for line in lines:\n",
    "    for rho,theta in line:\n",
    "        if (theta > np.pi / 2 + eps and np.abs (rho) > np.abs (rho_minus)):\n",
    "            rho_minus = rho\n",
    "            theta_minus = theta\n",
    "        if (theta < np.pi / 2 - eps and rho < rho_plus):\n",
    "            rho_plus = rho\n",
    "            theta_plus = theta\n",
    "        if (np.abs (theta - np.pi / 2) < eps):\n",
    "            if (rho > rho_hor_max):\n",
    "                rho_hor_max = rho\n",
    "                hor_max_found = True\n",
    "            if (rho < rho_hor_min):\n",
    "                rho_hor_min = rho\n",
    "                hor_min_found = True\n",
    "        #draw_line (img, rho, theta)\n",
    "        \n",
    "red = (0, 0, 255)\n",
    "draw_line (img, rho_minus, theta_minus, red)\n",
    "draw_line (img, rho_plus, theta_plus, red)\n",
    "\n",
    "if hor_min_found:\n",
    "    draw_line (img, rho_hor_min, np.pi / 2, red)\n",
    "if hor_max_found:\n",
    "    draw_line (img, rho_hor_max, np.pi / 2, red)\n",
    "cv2.imwrite(base+'houghlines_red.jpg', img)\n",
    "#cv2.imshow('houghlines',img)"
   ]
  },
  {
   "cell_type": "code",
   "execution_count": null,
   "metadata": {},
   "outputs": [],
   "source": [
    "img = im.copy()\n",
    "lines = cv2.HoughLinesP(edges,1,np.pi/180,80, minLineLength = 100, maxLineGap = 10)\n",
    "for line in lines:\n",
    "    for x1,y1,x2,y2 in line:\n",
    "        cv2.line(img,(x1,y1),(x2,y2),(0,255,0),2)\n",
    "cv2.imwrite(base+'houghlines_p.jpg', img)\n",
    "cv2.imshow('houghlines',img)\n",
    "cv2.waitKey()\n"
   ]
  },
  {
   "cell_type": "code",
   "execution_count": 107,
   "metadata": {},
   "outputs": [],
   "source": [
    "# Given y, this function returns x from (rho, theta) line equation\n",
    "def x_from_y(rho, theta, y):\n",
    "    sin_t = np.sin(theta)\n",
    "    cos_t = np.cos(theta) \n",
    "    \n",
    "    return ((rho / cos_t) - ((y * sin_t) / cos_t))"
   ]
  },
  {
   "cell_type": "code",
   "execution_count": 111,
   "metadata": {},
   "outputs": [],
   "source": [
    "# Given x, this function returns y from (rho, theta) line equation\n",
    "def y_from_x(rho, theta, x):\n",
    "    sin_t = np.sin(theta)\n",
    "    cos_t = np.cos(theta) \n",
    "    \n",
    "    return (-((x * cos_t) / sin_t) + (rho / sin_t)) "
   ]
  },
  {
   "cell_type": "code",
   "execution_count": 151,
   "metadata": {},
   "outputs": [],
   "source": [
    "# Given a point and the rectangle, this function checks \n",
    "# if this point lies inside the rectangle\n",
    "def check_point(x, y, left_x, right_x, up_y, down_y):\n",
    "    if (left_x <= x) and (x <= right_x) and (up_y <= y) and (y <= down_y):\n",
    "        return (int(np.around(x)), int(np.around(y)))\n",
    "    else:\n",
    "        return None"
   ]
  },
  {
   "cell_type": "code",
   "execution_count": 113,
   "metadata": {},
   "outputs": [],
   "source": [
    "# A line which traverses some rectangle has two points of traversal.\n",
    "#\n",
    "# This function finds four possible traversal points and drops those of them \n",
    "# which are not inside the rectangle\n",
    "def get_traversal_points(rho, theta, left_x, right_x, up_y, down_y):      \n",
    "    \n",
    "    #Find four possible points of traversal\n",
    "    up = (x_from_y(rho, theta, up_y), up_y)\n",
    "    right = (right_x, y_from_x(rho, theta, right_x))\n",
    "    down = (x_from_y(rho, theta, down_y), down_y)\n",
    "    left = (left_x, y_from_x(rho, theta, left_x))\n",
    "    \n",
    "    #If point is inside, we add it to the list; otherwise we add None\n",
    "    intersect_points = list(map(lambda p: check_point(p[0], p[1], left_x, right_x, up_y, down_y), [up, right, down, left]))\n",
    "    \n",
    "    #Drop all None values\n",
    "    intersect_points = [point for point in intersect_points if point != None]\n",
    "    \n",
    "    #Check if exactly two points were found\n",
    "    if len(intersect_points) != 2:\n",
    "        print('Error! len(intersect_points) != 2, intersect_points = {}'.format(intersect_points))\n",
    "        return None\n",
    "    else:\n",
    "        return sorted(intersect_points, key=lambda x: x[0])  "
   ]
  },
  {
   "cell_type": "code",
   "execution_count": 120,
   "metadata": {},
   "outputs": [
    {
     "name": "stdout",
     "output_type": "stream",
     "text": [
      "[(351, 0), (540, 757)]\n",
      "[(42, 757), (217, 0)]\n"
     ]
    }
   ],
   "source": [
    "print(get_traversal_points(rho_minus, theta_minus, 0, width, 0, height))\n",
    "print(get_traversal_points(rho_plus, theta_plus, 0, width, 0, height))"
   ]
  },
  {
   "cell_type": "code",
   "execution_count": 122,
   "metadata": {},
   "outputs": [
    {
     "name": "stdout",
     "output_type": "stream",
     "text": [
      "757\n"
     ]
    }
   ],
   "source": [
    "# Get the point of traversal for 'plus' and 'minus' lines\n",
    "# The order as follows in a way to obtain convenient trapezoid\n",
    "down_plus, up_plus = get_traversal_points(rho_plus, theta_plus, 0, width, 0, height)\n",
    "up_minus, down_minus = get_traversal_points(rho_minus, theta_minus, 0, width, 0, height)\n",
    "\n",
    "crop_height = min(down_minus[1], down_plus[1])\n",
    "print(crop_height)"
   ]
  },
  {
   "cell_type": "code",
   "execution_count": 123,
   "metadata": {},
   "outputs": [
    {
     "data": {
      "text/plain": [
       "True"
      ]
     },
     "execution_count": 123,
     "metadata": {},
     "output_type": "execute_result"
    }
   ],
   "source": [
    "crop = im[0:crop_height, :]\n",
    "cv2.imwrite(base+'cropped.jpg', crop)"
   ]
  },
  {
   "cell_type": "code",
   "execution_count": 125,
   "metadata": {},
   "outputs": [],
   "source": [
    "# Get the points of traversal for the cropped picture\n",
    "crop_down_plus, crop_up_plus = get_traversal_points(rho_plus, theta_plus, 0, width, 0, crop_height)\n",
    "crop_up_minus, crop_down_minus = get_traversal_points(rho_minus, theta_minus, 0, width, 0, crop_height)"
   ]
  },
  {
   "cell_type": "code",
   "execution_count": 126,
   "metadata": {},
   "outputs": [
    {
     "data": {
      "text/plain": [
       "True"
      ]
     },
     "execution_count": 126,
     "metadata": {},
     "output_type": "execute_result"
    }
   ],
   "source": [
    "# Create a transform and apply it\n",
    "from_points = np.float32([crop_down_plus, crop_up_plus, crop_up_minus, crop_down_minus])\n",
    "to_points = np.float32([(0, crop_height), (0, 0), (width, 0), (width, crop_height)])\n",
    "\n",
    "M = cv2.getPerspectiveTransform(from_points, to_points)\n",
    "dst = cv2.warpPerspective(crop, M, (width, crop_height))\n",
    "\n",
    "cv2.imwrite(base+'transformed.jpg', dst)"
   ]
  }
 ],
 "metadata": {
  "kernelspec": {
   "display_name": "Python 3",
   "language": "python",
   "name": "python3"
  },
  "language_info": {
   "codemirror_mode": {
    "name": "ipython",
    "version": 3
   },
   "file_extension": ".py",
   "mimetype": "text/x-python",
   "name": "python",
   "nbconvert_exporter": "python",
   "pygments_lexer": "ipython3",
   "version": "3.6.5"
  }
 },
 "nbformat": 4,
 "nbformat_minor": 2
}
